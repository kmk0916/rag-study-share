{
 "cells": [
  {
   "cell_type": "markdown",
   "metadata": {},
   "source": [
    "# 1. LangChain 프레임워크를 통해 upstage라는 AI모델(LLM)을 호출하여 질문하기"
   ]
  },
  {
   "cell_type": "markdown",
   "metadata": {},
   "source": [
    "## 사전준비\n",
    " - upstage api key 발급받아서 .env 파일에 저장하기"
   ]
  },
  {
   "cell_type": "markdown",
   "metadata": {},
   "source": [
    "## LLM \n",
    "- Large Language Model(대형 언어 모델)의 줄임말\n",
    "- 우리가 질문하면 그 뜻을 이해하고, 문장으로 자연스럽게 대답을 만들어내는 AI 모델이 바로 LLM. ex) ChatGPT, Claude, Gemini, Upstage\n",
    "\n"
   ]
  },
  {
   "cell_type": "markdown",
   "metadata": {},
   "source": [
    "## LangChain\n",
    "- AI 모델을 실제 서비스처럼 연결하고 확장할 수 있게 도와주는 프레임워크"
   ]
  },
  {
   "cell_type": "markdown",
   "metadata": {},
   "source": [
    "# 1. 패키지 설치"
   ]
  },
  {
   "cell_type": "code",
   "execution_count": null,
   "metadata": {},
   "outputs": [
    {
     "name": "stdout",
     "output_type": "stream",
     "text": [
      "Requirement already satisfied: python-dotenv in c:\\users\\azasu\\desktop\\inflearn-llm-application\\lib\\site-packages (1.1.1)\n",
      "Requirement already satisfied: langchain-upstage==0.5.0 in c:\\users\\azasu\\desktop\\inflearn-llm-application\\lib\\site-packages (0.5.0)\n",
      "Requirement already satisfied: langchain-core<0.4,>=0.3.0 in c:\\users\\azasu\\desktop\\inflearn-llm-application\\lib\\site-packages (from langchain-upstage==0.5.0) (0.3.79)\n",
      "Requirement already satisfied: langchain-openai<0.3,>=0.2 in c:\\users\\azasu\\desktop\\inflearn-llm-application\\lib\\site-packages (from langchain-upstage==0.5.0) (0.2.14)\n",
      "Requirement already satisfied: pypdf<5.0.0,>=4.2.0 in c:\\users\\azasu\\desktop\\inflearn-llm-application\\lib\\site-packages (from langchain-upstage==0.5.0) (4.3.1)\n",
      "Requirement already satisfied: requests<3.0.0,>=2.31.0 in c:\\users\\azasu\\desktop\\inflearn-llm-application\\lib\\site-packages (from langchain-upstage==0.5.0) (2.32.5)\n",
      "Requirement already satisfied: tokenizers<0.20.0,>=0.19.1 in c:\\users\\azasu\\desktop\\inflearn-llm-application\\lib\\site-packages (from langchain-upstage==0.5.0) (0.19.1)\n",
      "Requirement already satisfied: langsmith<1.0.0,>=0.3.45 in c:\\users\\azasu\\desktop\\inflearn-llm-application\\lib\\site-packages (from langchain-core<0.4,>=0.3.0->langchain-upstage==0.5.0) (0.4.34)\n",
      "Requirement already satisfied: tenacity!=8.4.0,<10.0.0,>=8.1.0 in c:\\users\\azasu\\desktop\\inflearn-llm-application\\lib\\site-packages (from langchain-core<0.4,>=0.3.0->langchain-upstage==0.5.0) (9.1.2)\n",
      "Requirement already satisfied: jsonpatch<2.0.0,>=1.33.0 in c:\\users\\azasu\\desktop\\inflearn-llm-application\\lib\\site-packages (from langchain-core<0.4,>=0.3.0->langchain-upstage==0.5.0) (1.33)\n",
      "Requirement already satisfied: PyYAML<7.0.0,>=5.3.0 in c:\\users\\azasu\\desktop\\inflearn-llm-application\\lib\\site-packages (from langchain-core<0.4,>=0.3.0->langchain-upstage==0.5.0) (6.0.3)\n",
      "Requirement already satisfied: typing-extensions<5.0.0,>=4.7.0 in c:\\users\\azasu\\desktop\\inflearn-llm-application\\lib\\site-packages (from langchain-core<0.4,>=0.3.0->langchain-upstage==0.5.0) (4.15.0)\n",
      "Requirement already satisfied: packaging<26.0.0,>=23.2.0 in c:\\users\\azasu\\desktop\\inflearn-llm-application\\lib\\site-packages (from langchain-core<0.4,>=0.3.0->langchain-upstage==0.5.0) (25.0)\n",
      "Requirement already satisfied: pydantic<3.0.0,>=2.7.4 in c:\\users\\azasu\\desktop\\inflearn-llm-application\\lib\\site-packages (from langchain-core<0.4,>=0.3.0->langchain-upstage==0.5.0) (2.12.0)\n",
      "Requirement already satisfied: openai<2.0.0,>=1.58.1 in c:\\users\\azasu\\desktop\\inflearn-llm-application\\lib\\site-packages (from langchain-openai<0.3,>=0.2->langchain-upstage==0.5.0) (1.109.1)\n",
      "Requirement already satisfied: tiktoken<1,>=0.7 in c:\\users\\azasu\\desktop\\inflearn-llm-application\\lib\\site-packages (from langchain-openai<0.3,>=0.2->langchain-upstage==0.5.0) (0.12.0)\n",
      "Requirement already satisfied: charset_normalizer<4,>=2 in c:\\users\\azasu\\desktop\\inflearn-llm-application\\lib\\site-packages (from requests<3.0.0,>=2.31.0->langchain-upstage==0.5.0) (3.4.3)\n",
      "Requirement already satisfied: idna<4,>=2.5 in c:\\users\\azasu\\desktop\\inflearn-llm-application\\lib\\site-packages (from requests<3.0.0,>=2.31.0->langchain-upstage==0.5.0) (3.10)\n",
      "Requirement already satisfied: urllib3<3,>=1.21.1 in c:\\users\\azasu\\desktop\\inflearn-llm-application\\lib\\site-packages (from requests<3.0.0,>=2.31.0->langchain-upstage==0.5.0) (2.3.0)\n",
      "Requirement already satisfied: certifi>=2017.4.17 in c:\\users\\azasu\\desktop\\inflearn-llm-application\\lib\\site-packages (from requests<3.0.0,>=2.31.0->langchain-upstage==0.5.0) (2025.10.5)\n",
      "Requirement already satisfied: huggingface-hub<1.0,>=0.16.4 in c:\\users\\azasu\\desktop\\inflearn-llm-application\\lib\\site-packages (from tokenizers<0.20.0,>=0.19.1->langchain-upstage==0.5.0) (0.35.3)\n",
      "Requirement already satisfied: filelock in c:\\users\\azasu\\desktop\\inflearn-llm-application\\lib\\site-packages (from huggingface-hub<1.0,>=0.16.4->tokenizers<0.20.0,>=0.19.1->langchain-upstage==0.5.0) (3.20.0)\n",
      "Requirement already satisfied: fsspec>=2023.5.0 in c:\\users\\azasu\\desktop\\inflearn-llm-application\\lib\\site-packages (from huggingface-hub<1.0,>=0.16.4->tokenizers<0.20.0,>=0.19.1->langchain-upstage==0.5.0) (2025.9.0)\n",
      "Requirement already satisfied: tqdm>=4.42.1 in c:\\users\\azasu\\desktop\\inflearn-llm-application\\lib\\site-packages (from huggingface-hub<1.0,>=0.16.4->tokenizers<0.20.0,>=0.19.1->langchain-upstage==0.5.0) (4.67.1)\n",
      "Requirement already satisfied: jsonpointer>=1.9 in c:\\users\\azasu\\desktop\\inflearn-llm-application\\lib\\site-packages (from jsonpatch<2.0.0,>=1.33.0->langchain-core<0.4,>=0.3.0->langchain-upstage==0.5.0) (3.0.0)\n",
      "Requirement already satisfied: httpx<1,>=0.23.0 in c:\\users\\azasu\\desktop\\inflearn-llm-application\\lib\\site-packages (from langsmith<1.0.0,>=0.3.45->langchain-core<0.4,>=0.3.0->langchain-upstage==0.5.0) (0.28.1)\n",
      "Requirement already satisfied: orjson>=3.9.14 in c:\\users\\azasu\\desktop\\inflearn-llm-application\\lib\\site-packages (from langsmith<1.0.0,>=0.3.45->langchain-core<0.4,>=0.3.0->langchain-upstage==0.5.0) (3.11.3)\n",
      "Requirement already satisfied: requests-toolbelt>=1.0.0 in c:\\users\\azasu\\desktop\\inflearn-llm-application\\lib\\site-packages (from langsmith<1.0.0,>=0.3.45->langchain-core<0.4,>=0.3.0->langchain-upstage==0.5.0) (1.0.0)\n",
      "Requirement already satisfied: zstandard>=0.23.0 in c:\\users\\azasu\\desktop\\inflearn-llm-application\\lib\\site-packages (from langsmith<1.0.0,>=0.3.45->langchain-core<0.4,>=0.3.0->langchain-upstage==0.5.0) (0.25.0)\n",
      "Requirement already satisfied: anyio<5,>=3.5.0 in c:\\users\\azasu\\desktop\\inflearn-llm-application\\lib\\site-packages (from openai<2.0.0,>=1.58.1->langchain-openai<0.3,>=0.2->langchain-upstage==0.5.0) (4.11.0)\n",
      "Requirement already satisfied: distro<2,>=1.7.0 in c:\\users\\azasu\\desktop\\inflearn-llm-application\\lib\\site-packages (from openai<2.0.0,>=1.58.1->langchain-openai<0.3,>=0.2->langchain-upstage==0.5.0) (1.9.0)\n",
      "Requirement already satisfied: jiter<1,>=0.4.0 in c:\\users\\azasu\\desktop\\inflearn-llm-application\\lib\\site-packages (from openai<2.0.0,>=1.58.1->langchain-openai<0.3,>=0.2->langchain-upstage==0.5.0) (0.11.0)\n",
      "Requirement already satisfied: sniffio in c:\\users\\azasu\\desktop\\inflearn-llm-application\\lib\\site-packages (from openai<2.0.0,>=1.58.1->langchain-openai<0.3,>=0.2->langchain-upstage==0.5.0) (1.3.1)\n",
      "Requirement already satisfied: annotated-types>=0.6.0 in c:\\users\\azasu\\desktop\\inflearn-llm-application\\lib\\site-packages (from pydantic<3.0.0,>=2.7.4->langchain-core<0.4,>=0.3.0->langchain-upstage==0.5.0) (0.7.0)\n",
      "Requirement already satisfied: pydantic-core==2.41.1 in c:\\users\\azasu\\desktop\\inflearn-llm-application\\lib\\site-packages (from pydantic<3.0.0,>=2.7.4->langchain-core<0.4,>=0.3.0->langchain-upstage==0.5.0) (2.41.1)\n",
      "Requirement already satisfied: typing-inspection>=0.4.2 in c:\\users\\azasu\\desktop\\inflearn-llm-application\\lib\\site-packages (from pydantic<3.0.0,>=2.7.4->langchain-core<0.4,>=0.3.0->langchain-upstage==0.5.0) (0.4.2)\n",
      "Requirement already satisfied: regex>=2022.1.18 in c:\\users\\azasu\\desktop\\inflearn-llm-application\\lib\\site-packages (from tiktoken<1,>=0.7->langchain-openai<0.3,>=0.2->langchain-upstage==0.5.0) (2025.9.18)\n",
      "Requirement already satisfied: httpcore==1.* in c:\\users\\azasu\\desktop\\inflearn-llm-application\\lib\\site-packages (from httpx<1,>=0.23.0->langsmith<1.0.0,>=0.3.45->langchain-core<0.4,>=0.3.0->langchain-upstage==0.5.0) (1.0.9)\n",
      "Requirement already satisfied: h11>=0.16 in c:\\users\\azasu\\desktop\\inflearn-llm-application\\lib\\site-packages (from httpcore==1.*->httpx<1,>=0.23.0->langsmith<1.0.0,>=0.3.45->langchain-core<0.4,>=0.3.0->langchain-upstage==0.5.0) (0.16.0)\n",
      "Requirement already satisfied: colorama in c:\\users\\azasu\\desktop\\inflearn-llm-application\\lib\\site-packages (from tqdm>=4.42.1->huggingface-hub<1.0,>=0.16.4->tokenizers<0.20.0,>=0.19.1->langchain-upstage==0.5.0) (0.4.6)\n",
      "Note: you may need to restart the kernel to use updated packages.\n"
     ]
    },
    {
     "name": "stderr",
     "output_type": "stream",
     "text": [
      "WARNING: There was an error checking the latest version of pip.\n"
     ]
    }
   ],
   "source": [
    "%pip install python-dotenv langchain-upstage==0.5.0"
   ]
  },
  {
   "cell_type": "markdown",
   "metadata": {},
   "source": [
    "# 2. 환경변수 불러오기\n",
    "\n",
    "- Upstage Console에서 발급받은 API Key를 `.env` 파일에 `UPSTAGE_API_KEY`로 저장\n",
    "- 아래와 같이 dotenv의 load_dotenv를 호출하면 환경변수를 불러온다."
   ]
  },
  {
   "cell_type": "code",
   "execution_count": 2,
   "metadata": {},
   "outputs": [
    {
     "data": {
      "text/plain": [
       "True"
      ]
     },
     "execution_count": 2,
     "metadata": {},
     "output_type": "execute_result"
    }
   ],
   "source": [
    "from dotenv import load_dotenv\n",
    "\n",
    "load_dotenv()"
   ]
  },
  {
   "cell_type": "markdown",
   "metadata": {},
   "source": [
    "# 3. LLM 답변 생성\n",
    "\n",
    "- Upstage Console에서 발급받은 API Key를 `UPSTAGE_API_KEY`라고 저장하면 별도의 설정 없이 `ChatUpstage`를 사용할 수 있음"
   ]
  },
  {
   "cell_type": "code",
   "execution_count": null,
   "metadata": {},
   "outputs": [],
   "source": [
    "from langchain_upstage import ChatUpstage\n",
    "\n",
    "# Upstage AI 모델을 하나 만들어서 llm이라는 이름으로 쓴다\n",
    "llm = ChatUpstage()"
   ]
  },
  {
   "cell_type": "code",
   "execution_count": null,
   "metadata": {},
   "outputs": [],
   "source": [
    "# invoke() : AI 모델을 실제로 동작시키는 함수\n",
    "ai_message = llm.invoke(\"인프런에 어떤 강의가 있나요?\")"
   ]
  },
  {
   "cell_type": "code",
   "execution_count": null,
   "metadata": {},
   "outputs": [
    {
     "data": {
      "text/plain": [
       "'인프런에는 다양한 분야의 강의가 있습니다. 주요 카테고리는 다음과 같습니다:\\n\\n1. **프로그래밍**: 웹 개발, 모바일 개발, 데이터 분석, 머신러닝, 인공지능, 클라우드 컴퓨팅 등 다양한 프로그래밍 관련 강의가 있습니다.\\n\\n2. **디자인**: UI/UX 디자인, 그래픽 디자인, 웹 디자인, 브랜딩 디자인 등 디자인 관련 강의가 있습니다.\\n\\n3. **비즈니스**: 마케팅, 경영, 재무, 인사, 법률 등 비즈니스 관련 강의가 있습니다.\\n\\n4. **인문학**: 심리학, 철학, 역사, 사회학 등 인문학 관련 강의가 있습니다.\\n\\n5. **기타**: 사진, 영상 편집, 음악, 외국어 등 다양한 분야의 강의가 있습니다.\\n\\n이 외에도 전문 분야별 강의, 자격증 준비 강의, 실무 프로젝트 기반 강의 등 다양한 형태의 강의가 제공됩니다. 인프런 홈페이지에서 자세한 내용을 확인하실 수 있습니다.'"
      ]
     },
     "execution_count": 5,
     "metadata": {},
     "output_type": "execute_result"
    }
   ],
   "source": [
    "# AI모델의 response를 확인해보면 질문에 대한 답이 있습니다.\n",
    "ai_message.content"
   ]
  }
 ],
 "metadata": {
  "kernelspec": {
   "display_name": "inflearn-llm-application",
   "language": "python",
   "name": "python3"
  },
  "language_info": {
   "codemirror_mode": {
    "name": "ipython",
    "version": 3
   },
   "file_extension": ".py",
   "mimetype": "text/x-python",
   "name": "python",
   "nbconvert_exporter": "python",
   "pygments_lexer": "ipython3",
   "version": "3.11.2"
  }
 },
 "nbformat": 4,
 "nbformat_minor": 2
}
